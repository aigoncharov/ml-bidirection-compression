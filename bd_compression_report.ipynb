{
 "cells": [
  {
   "cell_type": "markdown",
   "metadata": {},
   "source": [
    "# Bidirection Compression\n"
   ]
  },
  {
   "cell_type": "markdown",
   "metadata": {},
   "source": [
    "## Implement an environment (code) that would emulate the communication of workers with the server\n"
   ]
  },
  {
   "cell_type": "code",
   "execution_count": 1,
   "metadata": {},
   "outputs": [],
   "source": [
    "import time\n",
    "import numpy as np\n",
    "\n",
    "\n",
    "class DistrubutedEnvSimulator:\n",
    "    def __init__(self, execute_on_device, compressor, split_data):\n",
    "        self.compressor = compressor\n",
    "        self.execute_on_device = execute_on_device\n",
    "        self.split_data = split_data\n",
    "\n",
    "    def simulate_distributed_env(self, X, y, n_devices, heterogeneousity=0, num_iterations=100, eps=None):\n",
    "        n_features = X.shape[1]\n",
    "        weights = np.zeros(n_features)\n",
    "        convergence = []\n",
    "        accuracies = []\n",
    "        execution_time = 0\n",
    "        transmitted_coordinates = 0\n",
    "\n",
    "        X_split, y_split = self.split_data(X, y, n_devices, heterogeneousity)\n",
    "\n",
    "        for iteration in range(num_iterations):\n",
    "            start_time = time.time()\n",
    "            aggregated_gradient = np.zeros(n_features)\n",
    "\n",
    "            for device_idx in range(n_devices):\n",
    "                X_device = X_split[device_idx]\n",
    "                y_device = y_split[device_idx]\n",
    "\n",
    "                compressed_gradient, indices = self.execute_on_device(\n",
    "                    X_device, y_device, iteration, n_devices, n_features, self.compressor\n",
    "                )\n",
    "\n",
    "                aggregated_gradient += self.compressor.decompress(compressed_gradient, indices, len(X_device))\n",
    "                transmitted_coordinates += len(indices)\n",
    "\n",
    "            weights -= aggregated_gradient / n_devices\n",
    "            execution_time += time.time() - start_time\n",
    "\n",
    "            accuracy_i = self._estimate_accuracy(X, y, weights)\n",
    "            accuracies.append(accuracy_i)\n",
    "            convergence_i = self._estimate_convergence(aggregated_gradient / n_devices)\n",
    "            convergence.append(convergence_i)\n",
    "\n",
    "            if eps is not None and accuracy_i < eps:\n",
    "                break\n",
    "\n",
    "        return weights, convergence, accuracies, execution_time, transmitted_coordinates\n",
    "\n",
    "    def _estimate_accuracy(self, X, y, weights):\n",
    "        y_pred = np.sign(np.dot(X, weights))\n",
    "        diff = y.astype(\"int\") - y_pred.astype(\"int\")\n",
    "        false_predictions = len(diff[diff != 0])\n",
    "        accuracy = 1 - false_predictions / len(y_pred)\n",
    "        return accuracy\n",
    "\n",
    "    def _estimate_convergence(self, aggregated_gradient, n_devices):\n",
    "        return np.linalg.norm(aggregated_gradient / n_devices)\n",
    "\n",
    "\n",
    "# def example_execute_on_device_cgd(X, y, iteration, n_devices, n_features, compression_ratio):\n",
    "#     L = L = np.sum(np.linalg.vector_norm(X, axis=1) ** 2) / (4 * X.shape[1])\n",
    "#     lambda_reg = L / 1000\n",
    "#     gamma = gamma_k(L, omega, n_devices, iteration)\n",
    "\n",
    "#     gradient_device = nabla_f(X_device, y_device, weights, lambda_reg)\n",
    "#     compressed_gradient, indices = randk_compress(gradient_device, k)\n",
    "\n",
    "#     return compressed_gradient, indices"
   ]
  }
 ],
 "metadata": {
  "kernelspec": {
   "display_name": ".venv",
   "language": "python",
   "name": "python3"
  },
  "language_info": {
   "codemirror_mode": {
    "name": "ipython",
    "version": 3
   },
   "file_extension": ".py",
   "mimetype": "text/x-python",
   "name": "python",
   "nbconvert_exporter": "python",
   "pygments_lexer": "ipython3",
   "version": "3.12.7"
  }
 },
 "nbformat": 4,
 "nbformat_minor": 2
}
